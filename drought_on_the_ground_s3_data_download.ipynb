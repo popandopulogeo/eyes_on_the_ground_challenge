{
 "cells": [
  {
   "cell_type": "markdown",
   "metadata": {
    "id": "VttIQfWcvrbh"
   },
   "source": [
    "# Pre requisites\n",
    "\n",
    "Install and import required packages"
   ]
  },
  {
   "cell_type": "code",
   "execution_count": 1,
   "metadata": {
    "id": "9yESN3mDKGMp"
   },
   "outputs": [],
   "source": [
    "import boto3\n",
    "from pathlib import Path\n",
    "from botocore import UNSIGNED\n",
    "from botocore.client import Config\n",
    "from tqdm.notebook import tqdm"
   ]
  },
  {
   "cell_type": "markdown",
   "metadata": {
    "id": "eukUZJ9jv0pK"
   },
   "source": [
    "# Download files from s3 bucket\n",
    "\n",
    "Get a list of all files in the bucket and download into respective folders within the colab runtime"
   ]
  },
  {
   "cell_type": "code",
   "execution_count": 2,
   "metadata": {
    "id": "gX5bAQMSJmQS"
   },
   "outputs": [],
   "source": [
    "def get_file_folders(s3_client, bucket_name, prefix=\"\"):\n",
    "    file_names = []\n",
    "    folders = []\n",
    "\n",
    "    default_kwargs = {\n",
    "        \"Bucket\": bucket_name,\n",
    "        \"Prefix\": prefix\n",
    "    }\n",
    "    next_token = \"\"\n",
    "\n",
    "    while next_token is not None:\n",
    "        updated_kwargs = default_kwargs.copy()\n",
    "        if next_token != \"\":\n",
    "            updated_kwargs[\"ContinuationToken\"] = next_token\n",
    "\n",
    "        response = s3_client.list_objects_v2(**updated_kwargs)\n",
    "        contents = response.get(\"Contents\")\n",
    "\n",
    "        for result in contents:\n",
    "            key = result.get(\"Key\")\n",
    "            if key[-1] == \"/\":\n",
    "                folders.append(key)\n",
    "            else:\n",
    "                file_names.append(key)\n",
    "\n",
    "        next_token = response.get(\"NextContinuationToken\")\n",
    "\n",
    "    return file_names, folders"
   ]
  },
  {
   "cell_type": "code",
   "execution_count": 3,
   "metadata": {
    "id": "PrsSYCU0J4n4"
   },
   "outputs": [],
   "source": [
    "def download_files(s3_client, bucket_name, local_path, file_names, folders):\n",
    "    local_path = Path(local_path)\n",
    "\n",
    "    for folder in tqdm(folders):\n",
    "        folder_path = Path.joinpath(local_path, folder)\n",
    "\t\t\t\t# Create all folders in the path\n",
    "        folder_path.mkdir(parents=True, exist_ok=True)\n",
    "\n",
    "    for file_name in tqdm(file_names):\n",
    "        file_path = Path.joinpath(local_path, file_name)\n",
    "\t\t\t\t# Create folder for parent directory\n",
    "        file_path.parent.mkdir(parents=True, exist_ok=True)\n",
    "        s3_client.download_file(\n",
    "            bucket_name,\n",
    "            file_name,\n",
    "            str(file_path)\n",
    "        )"
   ]
  },
  {
   "cell_type": "code",
   "execution_count": 4,
   "metadata": {
    "id": "ykxWgbbkJ9IV"
   },
   "outputs": [],
   "source": [
    "client = boto3.client('s3', config=Config(signature_version=UNSIGNED))\n",
    "file_names, folders = get_file_folders(client, 'eyes-on-the-ground')"
   ]
  },
  {
   "cell_type": "code",
   "execution_count": 6,
   "metadata": {
    "id": "kB6b45phKb8E"
   },
   "outputs": [
    {
     "data": {
      "application/vnd.jupyter.widget-view+json": {
       "model_id": "0a12599bda234092a00dd8bf0115d765",
       "version_major": 2,
       "version_minor": 0
      },
      "text/plain": [
       "0it [00:00, ?it/s]"
      ]
     },
     "metadata": {},
     "output_type": "display_data"
    },
    {
     "data": {
      "application/vnd.jupyter.widget-view+json": {
       "model_id": "42ac9fb4b43646968bb3e09a0daa7fce",
       "version_major": 2,
       "version_minor": 0
      },
      "text/plain": [
       "  0%|          | 0/34733 [00:00<?, ?it/s]"
      ]
     },
     "metadata": {},
     "output_type": "display_data"
    }
   ],
   "source": [
    "download_files(\n",
    "        client,\n",
    "        \"eyes-on-the-ground\",\n",
    "        \"data\",\n",
    "        file_names,\n",
    "        folders\n",
    "    )"
   ]
  },
  {
   "cell_type": "markdown",
   "metadata": {
    "id": "cH_e-W6Jf0Jy"
   },
   "source": [
    "# Archive the images to download from Colab"
   ]
  },
  {
   "cell_type": "markdown",
   "metadata": {
    "id": "yqGGVci2Y4M4"
   },
   "source": [
    "## Create zip archive of images"
   ]
  },
  {
   "cell_type": "code",
   "execution_count": null,
   "metadata": {
    "id": "eHgB1av3aUie"
   },
   "outputs": [],
   "source": [
    "from zipfile import ZipFile\n",
    "import os\n",
    "\n",
    "def get_all_file_paths(directory):\n",
    "\n",
    "    # initializing empty file paths list\n",
    "    file_paths = []\n",
    "\n",
    "    # crawling through directory and subdirectories\n",
    "    for root, directories, files in os.walk(directory):\n",
    "        for filename in files:\n",
    "            # join the two strings in order to form the full filepath.\n",
    "            filepath = os.path.join(root, filename)\n",
    "            file_paths.append(filepath)\n",
    "\n",
    "    # returning all file paths\n",
    "    return file_paths\n",
    "\n",
    "def create_zip_file(directory, zip_path):\n",
    "    # calling function to get all file paths in the directory\n",
    "    file_paths = get_all_file_paths(directory)\n",
    "\n",
    "    # printing the list of all files to be zipped\n",
    "    print('Following files will be zipped:')\n",
    "    for file_name in file_paths:\n",
    "        print(file_name)\n",
    "\n",
    "    # writing files to a zipfile\n",
    "    with ZipFile(zip_path,'w') as zip:\n",
    "        # writing each file one by one\n",
    "        for path in file_paths:\n",
    "            arcname = path.split('/')[-1]\n",
    "            zip.write(path, arcname)\n",
    "\n",
    "    print('All files zipped successfully!')\n"
   ]
  },
  {
   "cell_type": "code",
   "execution_count": null,
   "metadata": {
    "id": "MiB6NPY6nqsk"
   },
   "outputs": [],
   "source": [
    "zip_names = ['/content/train.zip', '/content/test.zip']\n",
    "\n",
    "folders = ['/content/train', '/content/test']\n",
    "for zip_name,folder in zip(zip_names, folders):\n",
    "    create_zip_file(folder, zip_name)"
   ]
  },
  {
   "cell_type": "markdown",
   "metadata": {
    "id": "lEWQfJTzbcZL"
   },
   "source": [
    "## Download data to local storage\n",
    "\n",
    "Save zipped images and metadata to downloads folder on local machine"
   ]
  },
  {
   "cell_type": "code",
   "execution_count": null,
   "metadata": {
    "id": "diIPVCBLbmyf"
   },
   "outputs": [],
   "source": [
    "from google.colab import files\n",
    "\n",
    "data_files = [\n",
    "    '/content/README.md',\n",
    "    '/content/train.csv',\n",
    "    '/content/train.zip',\n",
    "    '/content/test.zip'\n",
    "    ]\n",
    "\n",
    "for pth in data_files:\n",
    "    files.download(pth)"
   ]
  }
 ],
 "metadata": {
  "colab": {
   "provenance": [],
   "toc_visible": true
  },
  "kernelspec": {
   "display_name": "cgiar",
   "language": "python",
   "name": "cgiar"
  },
  "language_info": {
   "codemirror_mode": {
    "name": "ipython",
    "version": 3
   },
   "file_extension": ".py",
   "mimetype": "text/x-python",
   "name": "python",
   "nbconvert_exporter": "python",
   "pygments_lexer": "ipython3",
   "version": "3.10.12"
  }
 },
 "nbformat": 4,
 "nbformat_minor": 4
}
